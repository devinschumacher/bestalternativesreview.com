{
 "cells": [
  {
   "cell_type": "code",
   "execution_count": 4,
   "metadata": {},
   "outputs": [],
   "source": [
    "import os\n",
    "import re\n",
    "\n",
    "# Path to the .txt file\n",
    "txt_file_path = '3.txt'\n",
    "\n",
    "# Directory containing the .md files\n",
    "md_files_dir = 'posts/best/3/'\n",
    "\n",
    "# Read URLs from the .txt file\n",
    "with open(txt_file_path, 'r') as file:\n",
    "    urls = file.readlines()\n",
    "\n",
    "# Process each URL\n",
    "for url in urls:\n",
    "    url = url.strip()\n",
    "    # Extract the filename from the URL\n",
    "    match = re.search(r'posts/best/3/(.*)\\.md', url)\n",
    "    if match:\n",
    "        filename = match.group(1) + '.md'\n",
    "        md_file_path = os.path.join(md_files_dir, filename)\n",
    "        \n",
    "        # Check if the .md file exists\n",
    "        if os.path.exists(md_file_path):\n",
    "            # Read the content of the .md file\n",
    "            with open(md_file_path, 'r') as md_file:\n",
    "                content = md_file.read()\n",
    "            \n",
    "            # Add the slug to the frontmatter\n",
    "            if content.startswith('---'):\n",
    "                parts = content.split('---', 2)\n",
    "                frontmatter = parts[1].strip()\n",
    "                if 'slug:' not in frontmatter:\n",
    "                    frontmatter += f'\\nslug: {url}'\n",
    "                else:\n",
    "                    frontmatter = re.sub(r'slug:.*', f'slug: {url}', frontmatter)\n",
    "                parts[1] = '\\n' + frontmatter + '\\n'\n",
    "                new_content = '---'.join(parts)\n",
    "            else:\n",
    "                new_content = f'---\\nslug: {url}\\n---\\n{content}'\n",
    "            \n",
    "            # Write the updated content back to the .md file\n",
    "            with open(md_file_path, 'w') as md_file:\n",
    "                md_file.write(new_content)\n",
    "        else:\n",
    "            print(f\"File not found: {md_file_path}\")"
   ]
  }
 ],
 "metadata": {
  "kernelspec": {
   "display_name": ".venv",
   "language": "python",
   "name": "python3"
  },
  "language_info": {
   "codemirror_mode": {
    "name": "ipython",
    "version": 3
   },
   "file_extension": ".py",
   "mimetype": "text/x-python",
   "name": "python",
   "nbconvert_exporter": "python",
   "pygments_lexer": "ipython3",
   "version": "3.13.0"
  }
 },
 "nbformat": 4,
 "nbformat_minor": 2
}
